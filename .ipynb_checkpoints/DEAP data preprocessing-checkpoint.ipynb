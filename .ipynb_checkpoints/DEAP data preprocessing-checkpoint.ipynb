{
 "cells": [
  {
   "cell_type": "code",
   "execution_count": 1,
   "metadata": {},
   "outputs": [],
   "source": [
    "import scipy.io as sio\n",
    "import numpy as np\n",
    "import pandas as pd\n",
    "import os"
   ]
  },
  {
   "cell_type": "markdown",
   "metadata": {},
   "source": [
    "实验组号  试验次数序号  实验者编号  实验结果数据"
   ]
  },
  {
   "cell_type": "code",
   "execution_count": 2,
   "metadata": {},
   "outputs": [],
   "source": [
    "def process_labels(labels):\n",
    "    result = []\n",
    "    for i in range(len(labels)):\n",
    "        if(labels[i] <= 5):\n",
    "            result.append(0)\n",
    "        else:\n",
    "            result.append(1)\n",
    "    result = np.array(result)\n",
    "    return result"
   ]
  },
  {
   "cell_type": "code",
   "execution_count": 3,
   "metadata": {},
   "outputs": [],
   "source": [
    "def calc_features(data):\n",
    "    result = []\n",
    "    result.append(np.mean(data))\n",
    "    result.append(np.median(data))\n",
    "    result.append(np.max(data))\n",
    "    result.append(np.min(data))\n",
    "    result.append(np.std(data))\n",
    "    result.append(np.var(data))\n",
    "    result.append(np.max(data)-np.min(data))\n",
    "    result.append(pd.Series(data).skew())\n",
    "    result.append(pd.Series(data).kurt())\n",
    "    return result"
   ]
  },
  {
   "cell_type": "markdown",
   "metadata": {},
   "source": [
    "考虑到一开始记录数据有噪声 同时为了将8064十等分 一开始的128*3的数据我们舍弃掉"
   ]
  },
  {
   "cell_type": "code",
   "execution_count": 4,
   "metadata": {},
   "outputs": [],
   "source": [
    "def calc_subject_featured_data(data,flag):\n",
    "    data = data[:,:,128*3:]\n",
    "    featured_data = np.zeros([40,40,101])\n",
    "    for i in range(len(data[0])):\n",
    "        for j in range(len(data[1])):\n",
    "            for k in range(10):\n",
    "                featured_data[i,j,k*9:(k+1)*9] =calc_features(data[i,j,k*128*6:(k+1)*128*6])\n",
    "            featured_data[i,j,90:99]=calc_features(data[i,j,:])\n",
    "            featured_data[i,j,99]=j #实验者标号\n",
    "            featured_data[i,j,100]=flag #实验号\n",
    "    return featured_data"
   ]
  },
  {
   "cell_type": "code",
   "execution_count": 19,
   "metadata": {},
   "outputs": [],
   "source": [
    "file_path = r\"D:\\Datasets\\DEAP\\data_preprocessed_matlab\"\n",
    "data = np.zeros([32,40,40,101])\n",
    "valence_labels = np.zeros([32,40])\n",
    "arousal_labels = np.zeros([32,40])\n",
    "\n",
    "file = os.listdir(file_path)\n",
    "file = file[2:]\n",
    "# mat = sio.loadmat(file_path+'\\\\'+str(file[0]))\n",
    "# mat\n",
    "# mat = sio.loadmat(file_path+'\\\\'+str(file[0]))\n",
    "# data[0,:,:,:]=calc_subject_featured_data(mat['data'],1)\n",
    "# valence_labels[0,:]=process_labels(mat['labels'][:,0])\n",
    "# arousal_labels[0,:]=process_labels(mat['labels'][:,1])\n",
    "for i in range(len(file)):\n",
    "    mat = sio.loadmat(file_path+'\\\\'+str(file[i]))\n",
    "    data[i,:,:,:]=calc_subject_featured_data(mat['data'],i+1)\n",
    "    valence_labels[i,:]=process_labels(mat['labels'][:,0])\n",
    "    arousal_labels[i,:]=process_labels(mat['labels'][:,1])"
   ]
  },
  {
   "cell_type": "code",
   "execution_count": 25,
   "metadata": {},
   "outputs": [],
   "source": [
    "np.save(r'save_data.npy',data)\n",
    "np.save(r'save_valence_labels.npy',valence_labels)\n",
    "np.save(r'save_arousal_labels.npy',arousal_labels)"
   ]
  }
 ],
 "metadata": {
  "kernelspec": {
   "display_name": "Python 3",
   "language": "python",
   "name": "python3"
  },
  "language_info": {
   "codemirror_mode": {
    "name": "ipython",
    "version": 3
   },
   "file_extension": ".py",
   "mimetype": "text/x-python",
   "name": "python",
   "nbconvert_exporter": "python",
   "pygments_lexer": "ipython3",
   "version": "3.7.6"
  }
 },
 "nbformat": 4,
 "nbformat_minor": 4
}
